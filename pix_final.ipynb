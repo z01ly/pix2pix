{
  "cells": [
    {
      "cell_type": "code",
      "execution_count": null,
      "metadata": {
        "colab": {
          "base_uri": "https://localhost:8080/"
        },
        "id": "GqaEiU9vCP4W",
        "outputId": "a0108760-7194-4f37-8c55-c24fabd500d3"
      },
      "outputs": [
        {
          "output_type": "stream",
          "name": "stdout",
          "text": [
            "Looking in indexes: https://pypi.org/simple, https://us-python.pkg.dev/colab-wheels/public/simple/\n",
            "Collecting import-ipynb\n",
            "  Downloading import_ipynb-0.1.4-py3-none-any.whl (4.1 kB)\n",
            "Requirement already satisfied: nbformat in /usr/local/lib/python3.7/dist-packages (from import-ipynb) (5.4.0)\n",
            "Requirement already satisfied: IPython in /usr/local/lib/python3.7/dist-packages (from import-ipynb) (7.9.0)\n",
            "Requirement already satisfied: backcall in /usr/local/lib/python3.7/dist-packages (from IPython->import-ipynb) (0.2.0)\n",
            "Requirement already satisfied: pexpect in /usr/local/lib/python3.7/dist-packages (from IPython->import-ipynb) (4.8.0)\n",
            "Requirement already satisfied: setuptools>=18.5 in /usr/local/lib/python3.7/dist-packages (from IPython->import-ipynb) (57.4.0)\n",
            "Collecting jedi>=0.10\n",
            "  Downloading jedi-0.18.1-py2.py3-none-any.whl (1.6 MB)\n",
            "\u001b[K     |████████████████████████████████| 1.6 MB 5.1 MB/s \n",
            "\u001b[?25hRequirement already satisfied: prompt-toolkit<2.1.0,>=2.0.0 in /usr/local/lib/python3.7/dist-packages (from IPython->import-ipynb) (2.0.10)\n",
            "Requirement already satisfied: traitlets>=4.2 in /usr/local/lib/python3.7/dist-packages (from IPython->import-ipynb) (5.1.1)\n",
            "Requirement already satisfied: pickleshare in /usr/local/lib/python3.7/dist-packages (from IPython->import-ipynb) (0.7.5)\n",
            "Requirement already satisfied: pygments in /usr/local/lib/python3.7/dist-packages (from IPython->import-ipynb) (2.6.1)\n",
            "Requirement already satisfied: decorator in /usr/local/lib/python3.7/dist-packages (from IPython->import-ipynb) (4.4.2)\n",
            "Requirement already satisfied: parso<0.9.0,>=0.8.0 in /usr/local/lib/python3.7/dist-packages (from jedi>=0.10->IPython->import-ipynb) (0.8.3)\n",
            "Requirement already satisfied: wcwidth in /usr/local/lib/python3.7/dist-packages (from prompt-toolkit<2.1.0,>=2.0.0->IPython->import-ipynb) (0.2.5)\n",
            "Requirement already satisfied: six>=1.9.0 in /usr/local/lib/python3.7/dist-packages (from prompt-toolkit<2.1.0,>=2.0.0->IPython->import-ipynb) (1.15.0)\n",
            "Requirement already satisfied: fastjsonschema in /usr/local/lib/python3.7/dist-packages (from nbformat->import-ipynb) (2.16.1)\n",
            "Requirement already satisfied: jsonschema>=2.6 in /usr/local/lib/python3.7/dist-packages (from nbformat->import-ipynb) (4.3.3)\n",
            "Requirement already satisfied: jupyter-core in /usr/local/lib/python3.7/dist-packages (from nbformat->import-ipynb) (4.11.1)\n",
            "Requirement already satisfied: attrs>=17.4.0 in /usr/local/lib/python3.7/dist-packages (from jsonschema>=2.6->nbformat->import-ipynb) (22.1.0)\n",
            "Requirement already satisfied: importlib-resources>=1.4.0 in /usr/local/lib/python3.7/dist-packages (from jsonschema>=2.6->nbformat->import-ipynb) (5.9.0)\n",
            "Requirement already satisfied: pyrsistent!=0.17.0,!=0.17.1,!=0.17.2,>=0.14.0 in /usr/local/lib/python3.7/dist-packages (from jsonschema>=2.6->nbformat->import-ipynb) (0.18.1)\n",
            "Requirement already satisfied: importlib-metadata in /usr/local/lib/python3.7/dist-packages (from jsonschema>=2.6->nbformat->import-ipynb) (4.12.0)\n",
            "Requirement already satisfied: typing-extensions in /usr/local/lib/python3.7/dist-packages (from jsonschema>=2.6->nbformat->import-ipynb) (4.1.1)\n",
            "Requirement already satisfied: zipp>=3.1.0 in /usr/local/lib/python3.7/dist-packages (from importlib-resources>=1.4.0->jsonschema>=2.6->nbformat->import-ipynb) (3.8.1)\n",
            "Requirement already satisfied: ptyprocess>=0.5 in /usr/local/lib/python3.7/dist-packages (from pexpect->IPython->import-ipynb) (0.7.0)\n",
            "Installing collected packages: jedi, import-ipynb\n",
            "Successfully installed import-ipynb-0.1.4 jedi-0.18.1\n",
            "importing Jupyter notebook from Utils.ipynb\n",
            "importing Jupyter notebook from network.ipynb\n",
            "importing Jupyter notebook from training_cuda.ipynb\n",
            "Looking in indexes: https://pypi.org/simple, https://us-python.pkg.dev/colab-wheels/public/simple/\n",
            "Requirement already satisfied: import-ipynb in /usr/local/lib/python3.7/dist-packages (0.1.4)\n",
            "Requirement already satisfied: IPython in /usr/local/lib/python3.7/dist-packages (from import-ipynb) (7.9.0)\n",
            "Requirement already satisfied: nbformat in /usr/local/lib/python3.7/dist-packages (from import-ipynb) (5.4.0)\n",
            "Requirement already satisfied: traitlets>=4.2 in /usr/local/lib/python3.7/dist-packages (from IPython->import-ipynb) (5.1.1)\n",
            "Requirement already satisfied: pickleshare in /usr/local/lib/python3.7/dist-packages (from IPython->import-ipynb) (0.7.5)\n",
            "Requirement already satisfied: backcall in /usr/local/lib/python3.7/dist-packages (from IPython->import-ipynb) (0.2.0)\n",
            "Requirement already satisfied: prompt-toolkit<2.1.0,>=2.0.0 in /usr/local/lib/python3.7/dist-packages (from IPython->import-ipynb) (2.0.10)\n",
            "Requirement already satisfied: decorator in /usr/local/lib/python3.7/dist-packages (from IPython->import-ipynb) (4.4.2)\n",
            "Requirement already satisfied: jedi>=0.10 in /usr/local/lib/python3.7/dist-packages (from IPython->import-ipynb) (0.18.1)\n",
            "Requirement already satisfied: pygments in /usr/local/lib/python3.7/dist-packages (from IPython->import-ipynb) (2.6.1)\n",
            "Requirement already satisfied: setuptools>=18.5 in /usr/local/lib/python3.7/dist-packages (from IPython->import-ipynb) (57.4.0)\n",
            "Requirement already satisfied: pexpect in /usr/local/lib/python3.7/dist-packages (from IPython->import-ipynb) (4.8.0)\n",
            "Requirement already satisfied: parso<0.9.0,>=0.8.0 in /usr/local/lib/python3.7/dist-packages (from jedi>=0.10->IPython->import-ipynb) (0.8.3)\n",
            "Requirement already satisfied: six>=1.9.0 in /usr/local/lib/python3.7/dist-packages (from prompt-toolkit<2.1.0,>=2.0.0->IPython->import-ipynb) (1.15.0)\n",
            "Requirement already satisfied: wcwidth in /usr/local/lib/python3.7/dist-packages (from prompt-toolkit<2.1.0,>=2.0.0->IPython->import-ipynb) (0.2.5)\n",
            "Requirement already satisfied: jupyter-core in /usr/local/lib/python3.7/dist-packages (from nbformat->import-ipynb) (4.11.1)\n",
            "Requirement already satisfied: fastjsonschema in /usr/local/lib/python3.7/dist-packages (from nbformat->import-ipynb) (2.16.1)\n",
            "Requirement already satisfied: jsonschema>=2.6 in /usr/local/lib/python3.7/dist-packages (from nbformat->import-ipynb) (4.3.3)\n",
            "Requirement already satisfied: pyrsistent!=0.17.0,!=0.17.1,!=0.17.2,>=0.14.0 in /usr/local/lib/python3.7/dist-packages (from jsonschema>=2.6->nbformat->import-ipynb) (0.18.1)\n",
            "Requirement already satisfied: importlib-resources>=1.4.0 in /usr/local/lib/python3.7/dist-packages (from jsonschema>=2.6->nbformat->import-ipynb) (5.9.0)\n",
            "Requirement already satisfied: importlib-metadata in /usr/local/lib/python3.7/dist-packages (from jsonschema>=2.6->nbformat->import-ipynb) (4.12.0)\n",
            "Requirement already satisfied: typing-extensions in /usr/local/lib/python3.7/dist-packages (from jsonschema>=2.6->nbformat->import-ipynb) (4.1.1)\n",
            "Requirement already satisfied: attrs>=17.4.0 in /usr/local/lib/python3.7/dist-packages (from jsonschema>=2.6->nbformat->import-ipynb) (22.1.0)\n",
            "Requirement already satisfied: zipp>=3.1.0 in /usr/local/lib/python3.7/dist-packages (from importlib-resources>=1.4.0->jsonschema>=2.6->nbformat->import-ipynb) (3.8.1)\n",
            "Requirement already satisfied: ptyprocess>=0.5 in /usr/local/lib/python3.7/dist-packages (from pexpect->IPython->import-ipynb) (0.7.0)\n",
            "Mounted at /content/gdrive\n"
          ]
        }
      ],
      "source": [
        "!pip install import-ipynb\n",
        "import import_ipynb\n",
        "#make sure to have Utils, network and training_testing in the Colab file\n",
        "import Utils\n",
        "import network\n",
        "import training_cuda\n",
        "from google.colab import drive\n",
        "drive.mount('/content/gdrive')\n",
        "#from google.colab import files\n",
        "import pickle\n",
        "import torch\n",
        "import torch.nn as nn\n",
        "import numpy as np\n"
      ]
    },
    {
      "cell_type": "code",
      "source": [
        "train_load,test_load = Utils.load_data(0)\n",
        "#G = network.Unet().cuda()\n",
        "#D = network.PatchGAN_70().cuda()\n",
        "#root = 'facades' + '_' + 'results' + '/'\n",
        "# for a in range (5):\n",
        "#   training_cuda.train_model(G, D, a, train_load, root,'facades',70,epochnum = 200, size=256,order = True,crop= True)\n",
        "#training_cuda.train_model(G, D, -5, train_load, root,'facades',70,epochnum = 200, size=256,order = False,crop= True)\n",
        "#!cp -r './facades_results' /content/gdrive/MyDrive\n",
        "#training_cuda.train_model(G, D, 4, train_load, root,'facades',70,epochnum = 200, size=256,order = True,crop= True)\n",
        "#!cp -r './facades_results' /content/gdrive/MyDrive\n",
        "#training_cuda.train_model(G, D, 3, train_load, root,'facades',70,epochnum = 200, size=256,order = True,crop= True)\n",
        "#!cp -r './facades_results' /content/gdrive/MyDrive\n",
        "#!cp -r './facades_results/Fixed_results/loss_key-5' /content/gdrive/MyDrive\n",
        "\n",
        "#G = network.Unet().cuda()\n",
        "#D = network.PatchGAN_16().cuda()\n",
        "#root = root = 'facades' + '_' + 'results16' + '/'\n",
        "#training_cuda.train_model(G, D, 2, train_load, root,'facades',16,epochnum = 200, size=256,order = True,crop= True)\n",
        "#!cp -r './facades_results16' /content/gdrive/MyDrive\n",
        "\n",
        "#G = network.Unet().cuda()\n",
        "#D = network.PixelGAN().cuda()\n",
        "#root = root = 'facades' + '_' + 'resultspix' + '/'\n",
        "#training_cuda.train_model(G, D, 2, train_load, root,'facades',1,epochnum = 200, size=256,order = True,crop= True)\n",
        "#!cp -r './facades_resultspix' /content/gdrive/MyDrive\n",
        "\n"
      ],
      "metadata": {
        "id": "RvR8oDX8Os8A",
        "colab": {
          "base_uri": "https://localhost:8080/"
        },
        "outputId": "f7046544-c02e-4f53-be82-093feec7fddf"
      },
      "execution_count": null,
      "outputs": [
        {
          "output_type": "stream",
          "name": "stdout",
          "text": [
            "Downloading data from http://efrosgans.eecs.berkeley.edu/pix2pix/datasets/facades.tar.gz\n",
            "30171136/30168306 [==============================] - 13s 0us/step\n",
            "30179328/30168306 [==============================] - 13s 0us/step\n"
          ]
        }
      ]
    },
    {
      "cell_type": "code",
      "source": [
        "gen0 = network.Unet()\n",
        "gen0.load_state_dict(torch.load('gdrive/MyDrive/gen_dis/facades0generator_param.pkl',map_location=torch.device('cpu')))\n",
        "gen0.eval()\n",
        "\n",
        "gen1 = network.Unet()\n",
        "gen1.load_state_dict(torch.load('gdrive/MyDrive/gen_dis/facades1generator_param.pkl',map_location=torch.device('cpu')))\n",
        "gen1.eval()\n",
        "\n",
        "gen2 = network.Unet()\n",
        "gen2.load_state_dict(torch.load('gdrive/MyDrive/gen_dis/facades2generator_param.pkl',map_location=torch.device('cpu')))\n",
        "gen2.eval()\n",
        "\n",
        "gen3 = network.Unet()\n",
        "gen3.load_state_dict(torch.load('gdrive/MyDrive/gen_dis/facades3generator_param.pkl',map_location=torch.device('cpu')))\n",
        "gen3.eval()\n",
        "\n",
        "gen4 = network.Unet()\n",
        "gen4.load_state_dict(torch.load('gdrive/MyDrive/gen_dis/facades4generator_param.pkl',map_location=torch.device('cpu')))\n",
        "gen4.eval()\n",
        "\n",
        "gen5 = network.Unet()\n",
        "gen5.load_state_dict(torch.load('gdrive/MyDrive/gen_dis/facades-5generator_param.pkl',map_location=torch.device('cpu')))\n",
        "gen5.eval()\n",
        "\n",
        "gen6 = network.Unet()\n",
        "gen6.load_state_dict(torch.load('gdrive/MyDrive/gen_dis/facades0GAN16generator_param.pkl',map_location=torch.device('cpu')))\n",
        "gen6.eval()\n",
        "\n",
        "gen7 = network.Unet()\n",
        "gen7.load_state_dict(torch.load('gdrive/MyDrive/gen_dis/facades0GAN1generator_param.pkl',map_location=torch.device('cpu')))\n",
        "gen7.eval()\n",
        "\n",
        "gen8 = network.Unet()\n",
        "gen8.load_state_dict(torch.load('gdrive/MyDrive/gen_dis/facades2GAN16generator_param.pkl',map_location=torch.device('cpu')))\n",
        "gen8.eval()\n",
        "\n",
        "gen9 = network.Unet()\n",
        "gen9.load_state_dict(torch.load('gdrive/MyDrive/gen_dis/facades2GAN1generator_param.pkl',map_location=torch.device('cpu')))\n",
        "gen9.eval()\n",
        "\n"
      ],
      "metadata": {
        "id": "CwqkpSPU0Bcw",
        "colab": {
          "base_uri": "https://localhost:8080/"
        },
        "outputId": "f24ed197-b066-403c-991b-f4fae3925040"
      },
      "execution_count": null,
      "outputs": [
        {
          "output_type": "execute_result",
          "data": {
            "text/plain": [
              "Unet(\n",
              "  (down1): Conv2d(3, 64, kernel_size=(4, 4), stride=(2, 2), padding=(1, 1))\n",
              "  (down2): DownBlock(\n",
              "    (conv): Conv2d(64, 128, kernel_size=(4, 4), stride=(2, 2), padding=(1, 1))\n",
              "    (batchnorm): BatchNorm2d(128, eps=1e-05, momentum=0.1, affine=True, track_running_stats=True)\n",
              "    (leaky_relu): LeakyReLU(negative_slope=0.2, inplace=True)\n",
              "  )\n",
              "  (down3): DownBlock(\n",
              "    (conv): Conv2d(128, 256, kernel_size=(4, 4), stride=(2, 2), padding=(1, 1))\n",
              "    (batchnorm): BatchNorm2d(256, eps=1e-05, momentum=0.1, affine=True, track_running_stats=True)\n",
              "    (leaky_relu): LeakyReLU(negative_slope=0.2, inplace=True)\n",
              "  )\n",
              "  (down4): DownBlock(\n",
              "    (conv): Conv2d(256, 512, kernel_size=(4, 4), stride=(2, 2), padding=(1, 1))\n",
              "    (batchnorm): BatchNorm2d(512, eps=1e-05, momentum=0.1, affine=True, track_running_stats=True)\n",
              "    (leaky_relu): LeakyReLU(negative_slope=0.2, inplace=True)\n",
              "  )\n",
              "  (down5): DownBlock(\n",
              "    (conv): Conv2d(512, 512, kernel_size=(4, 4), stride=(2, 2), padding=(1, 1))\n",
              "    (batchnorm): BatchNorm2d(512, eps=1e-05, momentum=0.1, affine=True, track_running_stats=True)\n",
              "    (leaky_relu): LeakyReLU(negative_slope=0.2, inplace=True)\n",
              "  )\n",
              "  (down6): DownBlock(\n",
              "    (conv): Conv2d(512, 512, kernel_size=(4, 4), stride=(2, 2), padding=(1, 1))\n",
              "    (batchnorm): BatchNorm2d(512, eps=1e-05, momentum=0.1, affine=True, track_running_stats=True)\n",
              "    (leaky_relu): LeakyReLU(negative_slope=0.2, inplace=True)\n",
              "  )\n",
              "  (down7): DownBlock(\n",
              "    (conv): Conv2d(512, 512, kernel_size=(4, 4), stride=(2, 2), padding=(1, 1))\n",
              "    (batchnorm): BatchNorm2d(512, eps=1e-05, momentum=0.1, affine=True, track_running_stats=True)\n",
              "    (leaky_relu): LeakyReLU(negative_slope=0.2, inplace=True)\n",
              "  )\n",
              "  (down8): DownBlock(\n",
              "    (conv): Conv2d(512, 512, kernel_size=(4, 4), stride=(2, 2), padding=(1, 1))\n",
              "    (batchnorm): BatchNorm2d(512, eps=1e-05, momentum=0.1, affine=True, track_running_stats=True)\n",
              "    (leaky_relu): LeakyReLU(negative_slope=0.2, inplace=True)\n",
              "  )\n",
              "  (up1): UpBlock(\n",
              "    (conv_transpose): ConvTranspose2d(512, 512, kernel_size=(4, 4), stride=(2, 2), padding=(1, 1))\n",
              "    (batchnorm): BatchNorm2d(512, eps=1e-05, momentum=0.1, affine=True, track_running_stats=True)\n",
              "    (dropout): Dropout(p=0.5, inplace=False)\n",
              "    (relu): ReLU(inplace=True)\n",
              "  )\n",
              "  (up2): UpBlock(\n",
              "    (conv_transpose): ConvTranspose2d(1024, 512, kernel_size=(4, 4), stride=(2, 2), padding=(1, 1))\n",
              "    (batchnorm): BatchNorm2d(512, eps=1e-05, momentum=0.1, affine=True, track_running_stats=True)\n",
              "    (dropout): Dropout(p=0.5, inplace=False)\n",
              "    (relu): ReLU(inplace=True)\n",
              "  )\n",
              "  (up3): UpBlock(\n",
              "    (conv_transpose): ConvTranspose2d(1024, 512, kernel_size=(4, 4), stride=(2, 2), padding=(1, 1))\n",
              "    (batchnorm): BatchNorm2d(512, eps=1e-05, momentum=0.1, affine=True, track_running_stats=True)\n",
              "    (dropout): Dropout(p=0.5, inplace=False)\n",
              "    (relu): ReLU(inplace=True)\n",
              "  )\n",
              "  (up4): UpBlock(\n",
              "    (conv_transpose): ConvTranspose2d(1024, 512, kernel_size=(4, 4), stride=(2, 2), padding=(1, 1))\n",
              "    (batchnorm): BatchNorm2d(512, eps=1e-05, momentum=0.1, affine=True, track_running_stats=True)\n",
              "    (dropout): Dropout(p=0.5, inplace=False)\n",
              "    (relu): ReLU(inplace=True)\n",
              "  )\n",
              "  (up5): UpBlock(\n",
              "    (conv_transpose): ConvTranspose2d(1024, 256, kernel_size=(4, 4), stride=(2, 2), padding=(1, 1))\n",
              "    (batchnorm): BatchNorm2d(256, eps=1e-05, momentum=0.1, affine=True, track_running_stats=True)\n",
              "    (dropout): Dropout(p=0.5, inplace=False)\n",
              "    (relu): ReLU(inplace=True)\n",
              "  )\n",
              "  (up6): UpBlock(\n",
              "    (conv_transpose): ConvTranspose2d(512, 128, kernel_size=(4, 4), stride=(2, 2), padding=(1, 1))\n",
              "    (batchnorm): BatchNorm2d(128, eps=1e-05, momentum=0.1, affine=True, track_running_stats=True)\n",
              "    (dropout): Dropout(p=0.5, inplace=False)\n",
              "    (relu): ReLU(inplace=True)\n",
              "  )\n",
              "  (up7): UpBlock(\n",
              "    (conv_transpose): ConvTranspose2d(256, 64, kernel_size=(4, 4), stride=(2, 2), padding=(1, 1))\n",
              "    (batchnorm): BatchNorm2d(64, eps=1e-05, momentum=0.1, affine=True, track_running_stats=True)\n",
              "    (dropout): Dropout(p=0.5, inplace=False)\n",
              "    (relu): ReLU(inplace=True)\n",
              "  )\n",
              "  (up8): UpBlock(\n",
              "    (conv_transpose): ConvTranspose2d(128, 3, kernel_size=(4, 4), stride=(2, 2), padding=(1, 1))\n",
              "    (batchnorm): BatchNorm2d(3, eps=1e-05, momentum=0.1, affine=True, track_running_stats=True)\n",
              "    (dropout): Dropout(p=0.5, inplace=False)\n",
              "    (relu): ReLU(inplace=True)\n",
              "  )\n",
              "  (tanh): Tanh()\n",
              ")"
            ]
          },
          "metadata": {},
          "execution_count": 3
        }
      ]
    },
    {
      "cell_type": "code",
      "source": [
        "disc0 = network.PatchGAN_70()\n",
        "disc0.load_state_dict(torch.load('gdrive/MyDrive/gen_dis/facades0discriminator_param.pkl',map_location=torch.device('cpu')))\n",
        "disc0.eval()\n",
        "\n",
        "disc1 = network.PatchGAN_70()\n",
        "disc1.load_state_dict(torch.load('gdrive/MyDrive/gen_dis/facades1discriminator_param.pkl',map_location=torch.device('cpu')))\n",
        "disc1.eval()\n",
        "\n",
        "disc2 = network.PatchGAN_70()\n",
        "disc2.load_state_dict(torch.load('gdrive/MyDrive/gen_dis/facades2discriminator_param.pkl',map_location=torch.device('cpu')))\n",
        "disc2.eval()\n",
        "\n",
        "disc3 = network.PatchGAN_70()\n",
        "disc3.load_state_dict(torch.load('gdrive/MyDrive/gen_dis/facades3discriminator_param.pkl',map_location=torch.device('cpu')))\n",
        "disc3.eval()\n",
        "\n",
        "disc4 = network.PatchGAN_70()\n",
        "disc4.load_state_dict(torch.load('gdrive/MyDrive/gen_dis/facades4discriminator_param.pkl',map_location=torch.device('cpu')))\n",
        "disc4.eval()\n",
        "\n",
        "disc5 = network.PatchGAN_70()\n",
        "disc5.load_state_dict(torch.load('gdrive/MyDrive/gen_dis/facades-5discriminator_param.pkl',map_location=torch.device('cpu')))\n",
        "disc5.eval()\n",
        "\n",
        "disc6 = network.PatchGAN_16()\n",
        "disc6.load_state_dict(torch.load('gdrive/MyDrive/gen_dis/facades0GAN16discriminator_param.pkl',map_location=torch.device('cpu')))\n",
        "disc6.eval()\n",
        "\n",
        "disc7 = network.PixelGAN()\n",
        "disc7.load_state_dict(torch.load('gdrive/MyDrive/gen_dis/facades0GAN1discriminator_param.pkl',map_location=torch.device('cpu')))\n",
        "disc7.eval()\n",
        "\n",
        "disc8 = network.PatchGAN_16()\n",
        "disc8.load_state_dict(torch.load('gdrive/MyDrive/gen_dis/facades2GAN16discriminator_param.pkl',map_location=torch.device('cpu')))\n",
        "disc8.eval()\n",
        "\n",
        "disc9 = network.PixelGAN()\n",
        "disc9.load_state_dict(torch.load('gdrive/MyDrive/gen_dis/facades2GAN1discriminator_param.pkl',map_location=torch.device('cpu')))\n",
        "disc9.eval()"
      ],
      "metadata": {
        "colab": {
          "base_uri": "https://localhost:8080/"
        },
        "id": "ZxdzMukVcZts",
        "outputId": "df744477-6d5e-436b-a389-b8ebac9bf463"
      },
      "execution_count": null,
      "outputs": [
        {
          "output_type": "execute_result",
          "data": {
            "text/plain": [
              "PixelGAN(\n",
              "  (conv1): Conv2d(6, 64, kernel_size=(1, 1), stride=(1, 1))\n",
              "  (leaky_relu): LeakyReLU(negative_slope=0.2, inplace=True)\n",
              "  (conv2): Conv2d(64, 128, kernel_size=(1, 1), stride=(1, 1))\n",
              "  (batchnorm2): BatchNorm2d(128, eps=1e-05, momentum=0.1, affine=True, track_running_stats=True)\n",
              "  (conv3): Conv2d(128, 1, kernel_size=(1, 1), stride=(1, 1))\n",
              "  (sigmoid): Sigmoid()\n",
              ")"
            ]
          },
          "metadata": {},
          "execution_count": 4
        }
      ]
    },
    {
      "cell_type": "code",
      "source": [
        "training_cuda.test_images('facades16', gen6, test_load,0, order= True)\n",
        "training_cuda.test_images('facades16', gen8, test_load,2, order= True)\n",
        "training_cuda.test_images('facadespix', gen7, test_load,0, order= True)\n",
        "training_cuda.test_images('facadespix', gen9, test_load,2, order= True)\n",
        "#training_cuda.test_images('facades', gen4, test_load,4, order= True)\n",
        "# training_cuda.test_images('facades', gen5, test_load,-5, order= True)\n",
        "!cp -r './facades16_results' /content/gdrive/MyDrive\n",
        "!cp -r './facadespix_results' /content/gdrive/MyDrive\n"
      ],
      "metadata": {
        "id": "Trp6xmziqQ_x"
      },
      "execution_count": null,
      "outputs": []
    },
    {
      "cell_type": "code",
      "source": [
        "#!cp -r './facades_results/test_results/loss_key0' /content/gdrive/MyDrive\n",
        "#!cp -r './facades_results/test_results/loss_key1' /content/gdrive/MyDrive\n",
        "#!cp -r './facades_results/test_results/loss_key2' /content/gdrive/MyDrive\n",
        "#!cp -r './facades_results/test_results/loss_key3' /content/gdrive/MyDrive\n",
        "#!cp -r './facades_results/test_results/loss_key4' /content/gdrive/MyDrive\n",
        "# !cp -r './facades_results/test_results/loss_key-5' /content/gdrive/MyDrive"
      ],
      "metadata": {
        "id": "ueI0OrP21Uj7"
      },
      "execution_count": null,
      "outputs": []
    },
    {
      "cell_type": "code",
      "source": [
        "err06 = training_cuda.test_models_disc(gen0, disc6, test_load)\n",
        "err16 = training_cuda.test_models_disc(gen1, disc6, test_load)\n",
        "err26 = training_cuda.test_models_disc(gen2, disc6, test_load)\n",
        "err36 = training_cuda.test_models_disc(gen3, disc6, test_load)\n",
        "err46 = training_cuda.test_models_disc(gen4, disc6, test_load)\n",
        "\n",
        "print('error06: ', err06)\n",
        "print('error16: ', err16)\n",
        "print('error26: ', err26)\n",
        "print('error36: ', err36)\n",
        "print('error46: ', err46)\n",
        "\n",
        "err66 = training_cuda.test_models_disc(gen6, disc6, test_load)\n",
        "err76 = training_cuda.test_models_disc(gen7, disc6, test_load)\n",
        "err86 = training_cuda.test_models_disc(gen8, disc6, test_load)\n",
        "err96 = training_cuda.test_models_disc(gen9, disc6, test_load)\n",
        "\n",
        "print('error66: ', err66)\n",
        "print('error76: ', err76)\n",
        "print('error86: ', err86)\n",
        "print('error96: ', err96)\n",
        "\n",
        "err07 = training_cuda.test_models_disc(gen0, disc7, test_load)\n",
        "err17 = training_cuda.test_models_disc(gen1, disc7, test_load)\n",
        "err27 = training_cuda.test_models_disc(gen2, disc7, test_load)\n",
        "err37 = training_cuda.test_models_disc(gen3, disc7, test_load)\n",
        "err47 = training_cuda.test_models_disc(gen4, disc7, test_load)\n",
        "\n",
        "print('error07: ', err07)\n",
        "print('error17: ', err17)\n",
        "print('error27: ', err27)\n",
        "print('error37: ', err37)\n",
        "print('error47: ', err47)\n",
        "\n",
        "err67 = training_cuda.test_models_disc(gen6, disc7, test_load)\n",
        "err77 = training_cuda.test_models_disc(gen7, disc7, test_load)\n",
        "err87 = training_cuda.test_models_disc(gen8, disc7, test_load)\n",
        "err97 = training_cuda.test_models_disc(gen9, disc7, test_load)\n",
        "\n",
        "print('error67: ', err67)\n",
        "print('error77: ', err77)\n",
        "print('error87: ', err87)\n",
        "print('error97: ', err97)\n",
        "\n",
        "err08 = training_cuda.test_models_disc(gen0, disc8, test_load)\n",
        "err18 = training_cuda.test_models_disc(gen1, disc8, test_load)\n",
        "err28 = training_cuda.test_models_disc(gen2, disc8, test_load)\n",
        "err38 = training_cuda.test_models_disc(gen3, disc8, test_load)\n",
        "err48 = training_cuda.test_models_disc(gen4, disc8, test_load)\n",
        "\n",
        "print('error08: ', err08)\n",
        "print('error18: ', err18)\n",
        "print('error28: ', err28)\n",
        "print('error38: ', err38)\n",
        "print('error48: ', err48)\n",
        "\n",
        "err66 = training_cuda.test_models_disc(gen6, disc6, test_load)\n",
        "err76 = training_cuda.test_models_disc(gen7, disc6, test_load)\n",
        "err86 = training_cuda.test_models_disc(gen8, disc6, test_load)\n",
        "err96 = training_cuda.test_models_disc(gen9, disc6, test_load)\n",
        "\n",
        "print('error66: ', err66)\n",
        "print('error76: ', err76)\n",
        "print('error86: ', err86)\n",
        "print('error96: ', err96)\n",
        "\n",
        "err09 = training_cuda.test_models_disc(gen0, disc9, test_load)\n",
        "err19 = training_cuda.test_models_disc(gen1, disc9, test_load)\n",
        "err29 = training_cuda.test_models_disc(gen2, disc9, test_load)\n",
        "err39 = training_cuda.test_models_disc(gen3, disc9, test_load)\n",
        "err49 = training_cuda.test_models_disc(gen4, disc9, test_load)\n",
        "\n",
        "print('error09: ', err09)\n",
        "print('error19: ', err19)\n",
        "print('error29: ', err29)\n",
        "print('error39: ', err39)\n",
        "print('error49: ', err49)\n",
        "\n",
        "err69 = training_cuda.test_models_disc(gen6, disc9, test_load)\n",
        "err79 = training_cuda.test_models_disc(gen7, disc9, test_load)\n",
        "err89 = training_cuda.test_models_disc(gen8, disc9, test_load)\n",
        "err99 = training_cuda.test_models_disc(gen9, disc9, test_load)\n",
        "\n",
        "print('error69: ', err69)\n",
        "print('error79: ', err79)\n",
        "print('error89: ', err89)\n",
        "print('error99: ', err99)\n",
        "\n"
      ],
      "metadata": {
        "colab": {
          "base_uri": "https://localhost:8080/"
        },
        "id": "lEAyuSs1D6Kn",
        "outputId": "9c0ee883-73cb-462e-930d-70dbf724f45a"
      },
      "execution_count": null,
      "outputs": [
        {
          "output_type": "stream",
          "name": "stdout",
          "text": [
            "error06:  0.08019446764249825\n",
            "error16:  0.20443760534947358\n",
            "error26:  0.2246120248749418\n",
            "error36:  0.218152373088795\n",
            "error46:  0.21928283217751865\n",
            "error66:  0.23912860474829534\n",
            "error76:  0.11569544401707\n",
            "error86:  0.22432330612418722\n",
            "error96:  0.2244653990401805\n",
            "error07:  0.49935714712420715\n",
            "error17:  0.49920702993291094\n",
            "error27:  0.4991517762825327\n",
            "error37:  0.4992313609250541\n",
            "error47:  0.4992040086139753\n",
            "error67:  0.49906221943572887\n",
            "error77:  0.49908219871011755\n",
            "error87:  0.499216435893068\n",
            "error97:  0.49925627855999954\n",
            "error08:  0.2584895697756878\n",
            "error18:  0.27293078883469685\n",
            "error28:  0.19198705888922932\n",
            "error38:  0.2796690668006545\n",
            "error48:  0.1649108424204067\n",
            "error66:  0.23912860474829534\n",
            "error76:  0.11569544401707\n",
            "error86:  0.22432330612418722\n",
            "error96:  0.2244653990401805\n",
            "error09:  0.6617739754683764\n",
            "error19:  0.6997601329122932\n",
            "error29:  0.7324945773314504\n",
            "error39:  0.7045559127932614\n",
            "error49:  0.6970314973766364\n",
            "error69:  0.7343945132875905\n",
            "error79:  0.6537116423104573\n",
            "error89:  0.6991415561981571\n",
            "error99:  0.6934539270632475\n"
          ]
        }
      ]
    },
    {
      "cell_type": "code",
      "source": [
        "err60 = training_cuda.test_models_disc(gen6, disc0, test_load)\n",
        "err61 = training_cuda.test_models_disc(gen6, disc1, test_load)\n",
        "err62 = training_cuda.test_models_disc(gen6, disc2, test_load)\n",
        "err63 = training_cuda.test_models_disc(gen6, disc3, test_load)\n",
        "err64 = training_cuda.test_models_disc(gen6, disc4, test_load)\n",
        "\n",
        "print('error60: ', err60)\n",
        "print('error61: ', err61)\n",
        "print('error62: ', err62)\n",
        "print('error63: ', err63)\n",
        "print('error64: ', err64)\n",
        "\n",
        "err67 = training_cuda.test_models_disc(gen6, disc7, test_load)\n",
        "err68 = training_cuda.test_models_disc(gen6, disc8, test_load)\n",
        "err69 = training_cuda.test_models_disc(gen6, disc9, test_load)\n",
        "\n",
        "print('error67: ', err67)\n",
        "print('error68: ', err68)\n",
        "print('error69: ', err69)\n",
        "\n",
        "err70 = training_cuda.test_models_disc(gen7, disc0, test_load)\n",
        "err71 = training_cuda.test_models_disc(gen7, disc1, test_load)\n",
        "err72 = training_cuda.test_models_disc(gen7, disc2, test_load)\n",
        "err73 = training_cuda.test_models_disc(gen7, disc3, test_load)\n",
        "err74 = training_cuda.test_models_disc(gen7, disc4, test_load)\n",
        "\n",
        "print('error70: ', err70)\n",
        "print('error71: ', err71)\n",
        "print('error72: ', err72)\n",
        "print('error73: ', err73)\n",
        "print('error74: ', err74)\n",
        "\n",
        "err76 = training_cuda.test_models_disc(gen7, disc6, test_load)\n",
        "err78 = training_cuda.test_models_disc(gen7, disc8, test_load)\n",
        "err79 = training_cuda.test_models_disc(gen7, disc9, test_load)\n",
        "\n",
        "print('error76: ', err76)\n",
        "print('error78: ', err78)\n",
        "print('error79: ', err79)\n",
        "\n",
        "err80 = training_cuda.test_models_disc(gen8, disc0, test_load)\n",
        "err81 = training_cuda.test_models_disc(gen8, disc1, test_load)\n",
        "err82 = training_cuda.test_models_disc(gen8, disc2, test_load)\n",
        "err83 = training_cuda.test_models_disc(gen8, disc3, test_load)\n",
        "err84 = training_cuda.test_models_disc(gen8, disc4, test_load)\n",
        "\n",
        "print('error80: ', err80)\n",
        "print('error81: ', err81)\n",
        "print('error82: ', err82)\n",
        "print('error83: ', err83)\n",
        "print('error84: ', err84)\n",
        "\n",
        "err86 = training_cuda.test_models_disc(gen8, disc6, test_load)\n",
        "err87 = training_cuda.test_models_disc(gen8, disc7, test_load)\n",
        "err89 = training_cuda.test_models_disc(gen8, disc9, test_load)\n",
        "\n",
        "print('error86: ', err86)\n",
        "print('error87: ', err87)\n",
        "print('error89: ', err89)\n",
        "\n",
        "err90 = training_cuda.test_models_disc(gen9, disc0, test_load)\n",
        "err91 = training_cuda.test_models_disc(gen9, disc1, test_load)\n",
        "err92 = training_cuda.test_models_disc(gen9, disc2, test_load)\n",
        "err93 = training_cuda.test_models_disc(gen9, disc3, test_load)\n",
        "err94 = training_cuda.test_models_disc(gen9, disc4, test_load)\n",
        "\n",
        "print('error90: ', err90)\n",
        "print('error91: ', err91)\n",
        "print('error92: ', err92)\n",
        "print('error93: ', err93)\n",
        "print('error94: ', err94)\n",
        "\n",
        "err96 = training_cuda.test_models_disc(gen9, disc6, test_load)\n",
        "err97 = training_cuda.test_models_disc(gen9, disc7, test_load)\n",
        "err98 = training_cuda.test_models_disc(gen9, disc8, test_load)\n",
        "\n",
        "print('error96: ', err96)\n",
        "print('error97: ', err97)\n",
        "print('error98: ', err98)\n"
      ],
      "metadata": {
        "colab": {
          "base_uri": "https://localhost:8080/"
        },
        "id": "xAmUGjCBGQzq",
        "outputId": "3f5370f0-d6d8-47e5-e543-9dfb8964dcac"
      },
      "execution_count": null,
      "outputs": [
        {
          "output_type": "stream",
          "name": "stdout",
          "text": [
            "error60:  0.3879741835362703\n",
            "error61:  0.37680057472395667\n",
            "error62:  0.22673542927769783\n",
            "error63:  0.17737134802833343\n",
            "error64:  0.3162166245498704\n",
            "error67:  0.49906221943572887\n",
            "error68:  0.183450591470142\n",
            "error69:  0.7343945132875905\n",
            "error70:  0.08051364906064407\n",
            "error71:  0.362978692229801\n",
            "error72:  0.1506319492693665\n",
            "error73:  0.7831772434190639\n",
            "error74:  0.6234587947431119\n",
            "error76:  0.11569544401707\n",
            "error78:  0.1551212693826811\n",
            "error79:  0.6537116423104573\n",
            "error80:  0.2839208010909627\n",
            "error81:  0.23938842009282807\n",
            "error82:  0.14820947484520164\n",
            "error83:  0.30803666243926414\n",
            "error84:  0.3968712229607175\n",
            "error86:  0.22432330612418722\n",
            "error87:  0.499216435893068\n",
            "error89:  0.6991415561981571\n",
            "error90:  0.27846817639701577\n",
            "error91:  0.26767431930141544\n",
            "error92:  0.13131992623788638\n",
            "error93:  0.3178105925580541\n",
            "error94:  0.4399274154340179\n",
            "error96:  0.2244653990401805\n",
            "error97:  0.49925627855999954\n",
            "error98:  0.12284287488431607\n"
          ]
        }
      ]
    },
    {
      "cell_type": "code",
      "source": [
        "err00 = training_cuda.test_models_disc(gen0, disc0, test_load)\n",
        "err01 = training_cuda.test_models_disc(gen0, disc1, test_load)\n",
        "err02 = training_cuda.test_models_disc(gen0, disc2, test_load)\n",
        "err03 = training_cuda.test_models_disc(gen0, disc3, test_load)\n",
        "err04 = training_cuda.test_models_disc(gen0, disc4, test_load)\n",
        "\n",
        "print('error00: ', err00)\n",
        "print('error01: ', err01)\n",
        "print('error02: ', err02)\n",
        "print('error03: ', err03)\n",
        "print('error04: ', err04)\n",
        "\n",
        "err10 = training_cuda.test_models_disc(gen1, disc0, test_load)\n",
        "err11 = training_cuda.test_models_disc(gen1, disc1, test_load)\n",
        "err12 = training_cuda.test_models_disc(gen1, disc2, test_load)\n",
        "err13 = training_cuda.test_models_disc(gen1, disc3, test_load)\n",
        "err14 = training_cuda.test_models_disc(gen1, disc4, test_load)\n",
        "\n",
        "print('error10: ', err10)\n",
        "print('error11: ', err11)\n",
        "print('error12: ', err12)\n",
        "print('error13: ', err13)\n",
        "print('error14: ', err14)\n",
        "\n",
        "err20 = training_cuda.test_models_disc(gen2, disc0, test_load)\n",
        "err21 = training_cuda.test_models_disc(gen2, disc1, test_load)\n",
        "err22 = training_cuda.test_models_disc(gen2, disc2, test_load)\n",
        "err23 = training_cuda.test_models_disc(gen2, disc3, test_load)\n",
        "err24 = training_cuda.test_models_disc(gen2, disc4, test_load)\n",
        "\n",
        "print('error20: ', err20)\n",
        "print('error21: ', err21)\n",
        "print('error22: ', err22)\n",
        "print('error23: ', err23)\n",
        "print('error24: ', err24)\n",
        "\n",
        "err30 = training_cuda.test_models_disc(gen3, disc0, test_load)\n",
        "err31 = training_cuda.test_models_disc(gen3, disc1, test_load)\n",
        "err32 = training_cuda.test_models_disc(gen3, disc2, test_load)\n",
        "err33 = training_cuda.test_models_disc(gen3, disc3, test_load)\n",
        "err34 = training_cuda.test_models_disc(gen3, disc4, test_load)\n",
        "\n",
        "print('error30: ', err30)\n",
        "print('error31: ', err31)\n",
        "print('error32: ', err32)\n",
        "print('error33: ', err33)\n",
        "print('error34: ', err34)\n",
        "\n",
        "err40 = training_cuda.test_models_disc(gen4, disc0, test_load)\n",
        "err41 = training_cuda.test_models_disc(gen4, disc1, test_load)\n",
        "err42 = training_cuda.test_models_disc(gen4, disc2, test_load)\n",
        "err43 = training_cuda.test_models_disc(gen4, disc3, test_load)\n",
        "err44 = training_cuda.test_models_disc(gen4, disc4, test_load)\n",
        "\n",
        "print('error40: ', err40)\n",
        "print('error41: ', err41)\n",
        "print('error42: ', err42)\n",
        "print('error43: ', err43)\n",
        "print('error44: ', err44)"
      ],
      "metadata": {
        "id": "XlWz5Hvcg3s5",
        "colab": {
          "base_uri": "https://localhost:8080/"
        },
        "outputId": "8ad92cfc-bcb3-4c40-db9f-28e3e0b22e15"
      },
      "execution_count": null,
      "outputs": [
        {
          "output_type": "stream",
          "name": "stdout",
          "text": [
            "error00:  0.24398129075331595\n",
            "error01:  0.22160130854949212\n",
            "error02:  0.14627232370012014\n",
            "error03:  0.34380029018932173\n",
            "error04:  0.43992152455651645\n",
            "error10:  0.2397081630250204\n",
            "error11:  0.22666993086199158\n",
            "error12:  0.2161219278440892\n",
            "error13:  0.302540155001057\n",
            "error14:  0.34294718648623496\n",
            "error20:  0.2525781779685645\n",
            "error21:  0.23548848294083355\n",
            "error22:  0.15186918664325788\n",
            "error23:  0.3389729913866636\n",
            "error24:  0.30268961545622464\n",
            "error30:  0.28767117474553655\n",
            "error31:  0.2520490892014457\n",
            "error32:  0.22871862662938033\n",
            "error33:  0.24311988475253282\n",
            "error34:  0.40355306588909\n",
            "error40:  0.20811482019794797\n",
            "error41:  0.2530930690395022\n",
            "error42:  0.15659355994277788\n",
            "error43:  0.3661594860328054\n",
            "error44:  0.2676413980068512\n"
          ]
        }
      ]
    },
    {
      "cell_type": "code",
      "source": [
        "err0 = training_cuda.test_models_inv(gen0, gen5, test_load)\n",
        "print('error 0: ', err0)\n"
      ],
      "metadata": {
        "id": "Y9KULwKDuzE9",
        "colab": {
          "base_uri": "https://localhost:8080/"
        },
        "outputId": "1bd0f297-6588-42c5-c6f7-03a5b9a005e5"
      },
      "execution_count": null,
      "outputs": [
        {
          "output_type": "stream",
          "name": "stdout",
          "text": [
            "error 0:  0.3886499497496966\n"
          ]
        }
      ]
    },
    {
      "cell_type": "code",
      "source": [
        "err1 = training_cuda.test_models_inv(gen1, gen5, test_load)\n",
        "print('error 1: ', err1)"
      ],
      "metadata": {
        "colab": {
          "base_uri": "https://localhost:8080/"
        },
        "id": "2nMTYusUZ9LG",
        "outputId": "86ca0272-0644-4fd7-c364-60b0aaaf7c45"
      },
      "execution_count": null,
      "outputs": [
        {
          "output_type": "stream",
          "name": "stdout",
          "text": [
            "error 1:  0.3585198411663759\n"
          ]
        }
      ]
    },
    {
      "cell_type": "code",
      "source": [
        "err2 = training_cuda.test_models_inv(gen2, gen5, test_load)\n",
        "print('error 2: ', err2)"
      ],
      "metadata": {
        "colab": {
          "base_uri": "https://localhost:8080/"
        },
        "id": "rV9sj6QlZ9nI",
        "outputId": "5db29368-bb86-460a-f3e4-e7f651e4b4b4"
      },
      "execution_count": null,
      "outputs": [
        {
          "output_type": "stream",
          "name": "stdout",
          "text": [
            "error 2:  0.3325339382134595\n"
          ]
        }
      ]
    },
    {
      "cell_type": "code",
      "source": [
        "err3 = training_cuda.test_models_inv(gen3, gen5, test_load)\n",
        "print('error 3: ', err3)"
      ],
      "metadata": {
        "colab": {
          "base_uri": "https://localhost:8080/"
        },
        "id": "vJxN2yTHZ9zG",
        "outputId": "590b86d0-8a46-44c7-82c4-977883bd4092"
      },
      "execution_count": null,
      "outputs": [
        {
          "output_type": "stream",
          "name": "stdout",
          "text": [
            "error 3:  0.38342936988015774\n"
          ]
        }
      ]
    },
    {
      "cell_type": "code",
      "source": [
        "err4 = training_cuda.test_models_inv(gen4, gen5, test_load)\n",
        "print('error 4: ', err4)"
      ],
      "metadata": {
        "colab": {
          "base_uri": "https://localhost:8080/"
        },
        "id": "imU0wj4WZ-DB",
        "outputId": "2cfa9d75-d416-4302-871d-f30d85d14a44"
      },
      "execution_count": null,
      "outputs": [
        {
          "output_type": "stream",
          "name": "stdout",
          "text": [
            "error 4:  0.37391988513539137\n"
          ]
        }
      ]
    },
    {
      "cell_type": "code",
      "source": [
        "err6 = training_cuda.test_models_inv(gen6, gen5, test_load)\n",
        "print('error 6: ', err6)"
      ],
      "metadata": {
        "id": "cSeVkONrJgQq",
        "colab": {
          "base_uri": "https://localhost:8080/"
        },
        "outputId": "24da71a3-52f7-4601-d3c8-f0858542f5ca"
      },
      "execution_count": null,
      "outputs": [
        {
          "output_type": "stream",
          "name": "stdout",
          "text": [
            "error 6:  0.43347827207694933\n"
          ]
        }
      ]
    },
    {
      "cell_type": "code",
      "source": [
        "err7 = training_cuda.test_models_inv(gen7, gen5, test_load)\n",
        "print('error 7: ', err7)"
      ],
      "metadata": {
        "id": "FeyAN1B1Jgcy",
        "colab": {
          "base_uri": "https://localhost:8080/"
        },
        "outputId": "9731aaaa-9e06-4bb9-8701-f3a71263da81"
      },
      "execution_count": null,
      "outputs": [
        {
          "output_type": "stream",
          "name": "stdout",
          "text": [
            "error 7:  0.5033224531747762\n"
          ]
        }
      ]
    },
    {
      "cell_type": "code",
      "source": [
        "err8 = training_cuda.test_models_inv(gen8, gen5, test_load)\n",
        "print('error 8: ', err8)"
      ],
      "metadata": {
        "id": "s4vtjS0wJgoI",
        "colab": {
          "base_uri": "https://localhost:8080/"
        },
        "outputId": "a42ed07b-5fad-45a6-cd87-63efd501155b"
      },
      "execution_count": null,
      "outputs": [
        {
          "output_type": "stream",
          "name": "stdout",
          "text": [
            "error 8:  0.39097258188192124\n"
          ]
        }
      ]
    },
    {
      "cell_type": "code",
      "source": [
        "err9 = training_cuda.test_models_inv(gen9, gen5, test_load)\n",
        "print('error 9: ', err9)"
      ],
      "metadata": {
        "id": "95rfJJ3OJgzv",
        "colab": {
          "base_uri": "https://localhost:8080/"
        },
        "outputId": "7a8f9c7d-66ee-4d4b-db71-36560abcea6d"
      },
      "execution_count": null,
      "outputs": [
        {
          "output_type": "stream",
          "name": "stdout",
          "text": [
            "error 9:  0.36461739401215487\n"
          ]
        }
      ]
    },
    {
      "cell_type": "code",
      "source": [
        "err68 = training_cuda.test_models_disc(gen6, disc8, test_load)\n",
        "err78 = training_cuda.test_models_disc(gen7, disc8, test_load)\n",
        "err88 = training_cuda.test_models_disc(gen8, disc8, test_load)\n",
        "err98 = training_cuda.test_models_disc(gen9, disc8, test_load)\n",
        "\n",
        "print('error68: ', err68)\n",
        "print('error78: ', err78)\n",
        "print('error88: ', err88)\n",
        "print('error98: ', err98)"
      ],
      "metadata": {
        "colab": {
          "base_uri": "https://localhost:8080/"
        },
        "id": "bmCsLXtCybYv",
        "outputId": "fa168c40-e346-4984-9ebe-caac147fde31"
      },
      "execution_count": null,
      "outputs": [
        {
          "output_type": "stream",
          "name": "stdout",
          "text": [
            "error68:  0.18345059089145613\n",
            "error78:  0.15512126973531778\n",
            "error88:  0.15890094030250623\n",
            "error98:  0.12284287390778366\n"
          ]
        }
      ]
    }
  ],
  "metadata": {
    "colab": {
      "provenance": [],
      "collapsed_sections": [],
      "machine_shape": "hm"
    },
    "gpuClass": "standard",
    "kernelspec": {
      "display_name": "Python 3",
      "name": "python3"
    },
    "language_info": {
      "name": "python"
    }
  },
  "nbformat": 4,
  "nbformat_minor": 0
}